{
 "cells": [
  {
   "cell_type": "code",
   "execution_count": 1,
   "metadata": {},
   "outputs": [
    {
     "name": "stdout",
     "output_type": "stream",
     "text": [
      "[[-2.12076291e+07 -9.33335451e+06 -1.05950495e+07]\n",
      " [-2.58454006e+03 -1.39244272e+03  6.40621908e+03]\n",
      " [ 5.93651688e-01  7.27577740e-01  5.10823464e-01]\n",
      " [ 1.03247238e-04 -4.02201867e-05 -1.02884950e-04]\n",
      " [-6.67397325e-09 -1.20943195e-08 -4.14227227e-09]\n",
      " [-1.09811163e-12  5.37206096e-13  5.00383773e-13]\n",
      " [ 4.31101165e-17  8.41812998e-17  1.40567079e-17]\n",
      " [ 5.55779928e-21 -2.73394861e-21 -1.20459598e-21]\n",
      " [-1.60279427e-25 -3.20021458e-25 -2.99982536e-26]\n",
      " [-1.70786413e-29  7.43763564e-30  2.09289275e-30]\n",
      " [ 6.72664537e-34  7.56281580e-35 -2.53030116e-34]\n",
      " [ 3.09914862e-38  4.00988561e-38 -1.96946694e-38]\n",
      " [-4.03102820e-41  9.43931388e-41  4.16363561e-41]\n",
      " [ 4.71007727e-46 -3.40460426e-45  1.02034530e-45]\n",
      " [ 2.53719464e-48 -6.05966300e-48 -2.63605882e-48]\n",
      " [-1.33276231e-53  8.45845833e-53 -2.45820993e-53]\n",
      " [-6.30677038e-56  1.49327176e-55  6.50777383e-56]]\n",
      "range(0, 2)\n",
      "range(1, 2)\n"
     ]
    }
   ],
   "source": [
    "SPEED_OF_LIGHT = 2.99792458e8\n",
    "import sys\n",
    "sys.path.append('../')\n",
    "# from laika.gps_time import GPSTime\n",
    "import numpy as np\n",
    "data = {'xyz': np.array([[-2.12076291e+07, -9.33335451e+06, -1.05950495e+07],\n",
    "       [-1.29227003e+03, -6.96221360e+02,  3.20310954e+03],\n",
    "       [ 1.48412922e-01,  1.81894435e-01,  1.27705866e-01],\n",
    "       [ 1.29059048e-05, -5.02752334e-06, -1.28606187e-05],\n",
    "       [-4.17123328e-10, -7.55894967e-10, -2.58892017e-10],\n",
    "       [-3.43159884e-14,  1.67876905e-14,  1.56369929e-14],\n",
    "       [ 6.73595570e-19,  1.31533281e-18,  2.19636061e-19],\n",
    "       [ 4.34203069e-23, -2.13589735e-23, -9.41090611e-24],\n",
    "       [-6.26091511e-28, -1.25008382e-27, -1.17180678e-28],\n",
    "       [-3.33567213e-32,  1.45266321e-32,  4.08768116e-33],\n",
    "       [ 6.56898962e-37,  7.38556230e-38, -2.47099723e-37],\n",
    "       [ 1.51325616e-41,  1.95795196e-41, -9.61653778e-42],\n",
    "       [-9.84137744e-45,  2.30451999e-44,  1.01651260e-44],\n",
    "       [ 5.74960604e-50, -4.15601106e-49,  1.24553870e-49],\n",
    "       [ 1.54858071e-52, -3.69852478e-52, -1.60892262e-52],\n",
    "       [-4.06726780e-58,  2.58131663e-57, -7.50186137e-58],\n",
    "       [-9.62336789e-61,  2.27855188e-60,  9.93007482e-61]]), 'clock': [1.6027777777731984e-12, 0.00020527189499999998], 'deg': 16, 'deg_t': 1}\n",
    "# time = GPSTime(week=2012, tow=404100.0)\n",
    "dt = 2\n",
    "deg = data['deg']\n",
    "deg_t = data['deg_t']\n",
    "indices = np.arange(deg+1)[:,np.newaxis]\n",
    "# print(np.arange(deg+1), np.newaxis)\n",
    "# print(indices)\n",
    "sat_pos = np.sum((dt**indices)*data['xyz'], axis=0)\n",
    "# print(dt**indices)\n",
    "print((dt**indices)*data['xyz'])\n",
    "indices = indices[1:]\n",
    "sat_vel = np.sum(indices*(dt**(indices-1)*data['xyz'][1:]), axis=0)\n",
    "print(range(deg_t+1))\n",
    "time_err = sum((dt**p)*data['clock'][deg_t-p] for p in range(deg_t+1))\n",
    "print(range(1, deg_t+1))\n",
    "time_err_rate = sum(p*(dt**(p-1))*data['clock'][deg_t-p] for p in range(1,deg_t+1))\n",
    "time_err_with_rel = time_err - 2*np.inner(sat_pos, sat_vel)/SPEED_OF_LIGHT**2"
   ]
  }
 ],
 "metadata": {
  "kernelspec": {
   "display_name": "Python 3.6.9 64-bit",
   "language": "python",
   "name": "python3"
  },
  "language_info": {
   "codemirror_mode": {
    "name": "ipython",
    "version": 3
   },
   "file_extension": ".py",
   "mimetype": "text/x-python",
   "name": "python",
   "nbconvert_exporter": "python",
   "pygments_lexer": "ipython3",
   "version": "3.8.9"
  },
  "orig_nbformat": 4,
  "vscode": {
   "interpreter": {
    "hash": "31f2aee4e71d21fbe5cf8b01ff0e069b9275f58929596ceb00d14d90e3e16cd6"
   }
  }
 },
 "nbformat": 4,
 "nbformat_minor": 2
}
