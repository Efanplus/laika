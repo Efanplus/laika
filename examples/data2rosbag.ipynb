{
 "cells": [
  {
   "cell_type": "code",
   "execution_count": 1,
   "metadata": {},
   "outputs": [
    {
     "name": "stderr",
     "output_type": "stream",
     "text": [
      "Failed to load Python extension for LZ4 support. LZ4 compression will not be available.\n"
     ]
    },
    {
     "name": "stdout",
     "output_type": "stream",
     "text": [
      "<bound method NDFrame.head of                         0         1         2         3        4        5   \\\n",
      "0      1606691895448146688  -0.02319   0.07241  -0.00524  0.70028 -0.70821   \n",
      "1      1606691895548146432  -0.02788   0.11928  -0.01498  0.69560 -0.71211   \n",
      "2      1606691895648146432  -0.02778   0.14301  -0.01498  0.69358 -0.71383   \n",
      "3      1606691895748146432  -0.02988   0.17443  -0.01443  0.69337 -0.71368   \n",
      "4      1606691895848146432  -0.02720   0.20911  -0.01654  0.69193 -0.71443   \n",
      "...                    ...       ...       ...       ...      ...      ...   \n",
      "14196  1606693315048146432 -68.60749 -60.79121 -39.60032  0.36958 -0.40236   \n",
      "14197  1606693315148146432 -68.46705 -60.83966 -39.61716  0.37172 -0.40681   \n",
      "14198  1606693315248146432 -68.33110 -60.88336 -39.63843  0.37201 -0.40262   \n",
      "14199  1606693315348146432 -68.18752 -60.93472 -39.63590  0.36194 -0.39617   \n",
      "14200  1606693315448146688 -68.06315 -60.98060 -39.62055  0.32981 -0.41165   \n",
      "\n",
      "            6        7        8        9        10  11  \n",
      "0      0.06330  0.06358 -0.04168  0.27184 -0.03929 NaN  \n",
      "1      0.05516  0.07741 -0.00775  0.33871 -0.03380 NaN  \n",
      "2      0.04608  0.08529 -0.01631  0.37702 -0.01417 NaN  \n",
      "3      0.02862  0.09527  0.02168  0.39424 -0.03219 NaN  \n",
      "4      0.01387  0.10315  0.08493  0.38540 -0.04792 NaN  \n",
      "...        ...      ...      ...      ...      ...  ..  \n",
      "14196  0.64803 -0.53065  1.28439 -0.42849 -0.05065 NaN  \n",
      "14197  0.63090 -0.54617  1.34145 -0.42584 -0.23765 NaN  \n",
      "14198  0.63607 -0.54307  1.36484 -0.44040 -0.14273 NaN  \n",
      "14199  0.64474 -0.54438  1.32074 -0.45724  0.13257 NaN  \n",
      "14200  0.65558 -0.54035  1.25195 -0.55381  0.09451 NaN  \n",
      "\n",
      "[14201 rows x 12 columns]>\n"
     ]
    }
   ],
   "source": [
    "import rosbag\n",
    "import rospy\n",
    "from ninebot_gio_coupling.msg import GnssEphemMsg, GnssGloEphemMsg, GnssMeasMsg, GnssObsMsg, GnssTimeMsg, StampedFloat64Array\n",
    "from nav_msgs.msg import Odometry\n",
    "import time\n",
    "import subprocess\n",
    "import pandas as pd\n",
    "roscore = subprocess.Popen('roscore')\n",
    "time.sleep(1)  # wait a bit to be sure the roscore is really launched\n",
    "\n",
    "# out_bag_name = '/persist/source_data1/wangyf/dataset/GNSS/GVINS/sports_inoutdoor.bag'\n",
    "# out_bag_name = '/persist/source_data1/wangyf/dataset/GNSS/GVINS/sports_vins.bag'\n",
    "out_bag_name = '/persist/source_data1/wangyf/dataset/GNSS/GVINS/sports_urban_driving.bag'\n",
    "file_name = \"/persist/catkin_ws/vins_output_sport_field/vins_result_no_loop.csv\"\n",
    "# file_name = \"/persist/catkin_ws/dataset/gvins_analyse/inoutdoor/vins.csv\"\n",
    "rospy.init_node('vins2bag')\n",
    "bag = rosbag.Bag(out_bag_name, 'w')\n",
    "vins_df = pd.read_csv(file_name, sep=',', header=None)\n",
    "print(vins_df.head)\n",
    "def generate_odom_msg(timestamp, px, py, pz, qw, qx, qy, qz, vx, vy, vz):\n",
    "    #print(timestamp, px, py, pz, qw, qx, qy, qz, vx, vy, vz)\n",
    "    odom_msg = Odometry()\n",
    "    odom_msg.header.stamp.secs = int(timestamp / 1e9)\n",
    "    odom_msg.header.stamp.nsecs = int(timestamp % 1e9)\n",
    "    odom_msg.header.frame_id = \"vins\"\n",
    "    odom_msg.pose.pose.position.x = px\n",
    "    odom_msg.pose.pose.position.y = py\n",
    "    odom_msg.pose.pose.position.z = pz\n",
    "    odom_msg.pose.pose.orientation.w = qw\n",
    "    odom_msg.pose.pose.orientation.x = qx\n",
    "    odom_msg.pose.pose.orientation.y = qy\n",
    "    odom_msg.pose.pose.orientation.z = qz\n",
    "    odom_msg.twist.twist.linear.x = vx\n",
    "    odom_msg.twist.twist.linear.y = vy\n",
    "    odom_msg.twist.twist.linear.z = vz\n",
    "    return odom_msg\n",
    "\n",
    "msgs = vins_df.apply(lambda x: generate_odom_msg(x[0], x[1], x[2], x[3], x[4], x[5], x[6], x[7], x[8], x[9], x[10]), axis=1)\n",
    "\n",
    "for msg in msgs:\n",
    "    bag.write('vins_odom', msg, t=msg.header.stamp)\n",
    "bag.close()\n",
    "    "
   ]
  },
  {
   "cell_type": "code",
   "execution_count": 1,
   "metadata": {},
   "outputs": [
    {
     "ename": "TypeError",
     "evalue": "findCaller() takes from 1 to 2 positional arguments but 3 were given",
     "output_type": "error",
     "traceback": [
      "\u001b[0;31m---------------------------------------------------------------------------\u001b[0m",
      "\u001b[0;31mImportError\u001b[0m                               Traceback (most recent call last)",
      "File \u001b[0;32m/opt/ros/melodic/lib/python2.7/dist-packages/rosbag/bag.py:70\u001b[0m, in \u001b[0;36m<module>\u001b[0;34m\u001b[0m\n\u001b[1;32m     69\u001b[0m \u001b[39mtry\u001b[39;00m:\n\u001b[0;32m---> 70\u001b[0m     \u001b[39mimport\u001b[39;00m \u001b[39mroslz4\u001b[39;00m\n\u001b[1;32m     71\u001b[0m     found_lz4 \u001b[39m=\u001b[39m \u001b[39mTrue\u001b[39;00m\n",
      "File \u001b[0;32m/opt/ros/melodic/lib/python2.7/dist-packages/roslz4/__init__.py:33\u001b[0m, in \u001b[0;36m<module>\u001b[0;34m\u001b[0m\n\u001b[1;32m      1\u001b[0m \u001b[39m# Software License Agreement (BSD License)\u001b[39;00m\n\u001b[1;32m      2\u001b[0m \u001b[39m#\u001b[39;00m\n\u001b[1;32m      3\u001b[0m \u001b[39m# Copyright (c) 2014, Ben Charrow\u001b[39;00m\n\u001b[0;32m   (...)\u001b[0m\n\u001b[1;32m     30\u001b[0m \u001b[39m# ANY WAY OUT OF THE USE OF THIS SOFTWARE, EVEN IF ADVISED OF THE\u001b[39;00m\n\u001b[1;32m     31\u001b[0m \u001b[39m# POSSIBILITY OF SUCH DAMAGE.\u001b[39;00m\n\u001b[0;32m---> 33\u001b[0m \u001b[39mfrom\u001b[39;00m \u001b[39m.\u001b[39;00m\u001b[39m_roslz4\u001b[39;00m \u001b[39mimport\u001b[39;00m \u001b[39m*\u001b[39m\n\u001b[1;32m     35\u001b[0m \u001b[39mdef\u001b[39;00m \u001b[39mcompress\u001b[39m(data):\n",
      "\u001b[0;31mImportError\u001b[0m: dynamic module does not define module export function (PyInit__roslz4)",
      "\nDuring handling of the above exception, another exception occurred:\n",
      "\u001b[0;31mTypeError\u001b[0m                                 Traceback (most recent call last)",
      "\u001b[1;32m/persist/source_data1/wangyf/dataset/GNSS/Code/laika/examples/data2rosbag.ipynb Cell 2\u001b[0m in \u001b[0;36m<cell line: 1>\u001b[0;34m()\u001b[0m\n\u001b[0;32m----> <a href='vscode-notebook-cell://attached-container%2B7b22636f6e7461696e65724e616d65223a222f77616e6779665f61726d36342d6369222c2273657474696e6773223a7b22686f7374223a227373683a2f2f31302e33302e31372e37227d7d/persist/source_data1/wangyf/dataset/GNSS/Code/laika/examples/data2rosbag.ipynb#ch0000000vscode-remote?line=0'>1</a>\u001b[0m \u001b[39mimport\u001b[39;00m \u001b[39mrosbag\u001b[39;00m\n\u001b[1;32m      <a href='vscode-notebook-cell://attached-container%2B7b22636f6e7461696e65724e616d65223a222f77616e6779665f61726d36342d6369222c2273657474696e6773223a7b22686f7374223a227373683a2f2f31302e33302e31372e37227d7d/persist/source_data1/wangyf/dataset/GNSS/Code/laika/examples/data2rosbag.ipynb#ch0000000vscode-remote?line=1'>2</a>\u001b[0m \u001b[39mimport\u001b[39;00m \u001b[39mrospy\u001b[39;00m\n\u001b[1;32m      <a href='vscode-notebook-cell://attached-container%2B7b22636f6e7461696e65724e616d65223a222f77616e6779665f61726d36342d6369222c2273657474696e6773223a7b22686f7374223a227373683a2f2f31302e33302e31372e37227d7d/persist/source_data1/wangyf/dataset/GNSS/Code/laika/examples/data2rosbag.ipynb#ch0000000vscode-remote?line=2'>3</a>\u001b[0m \u001b[39mfrom\u001b[39;00m \u001b[39mninebot_gio_coupling\u001b[39;00m\u001b[39m.\u001b[39;00m\u001b[39mmsg\u001b[39;00m \u001b[39mimport\u001b[39;00m GnssEphemMsg, GnssGloEphemMsg, GnssMeasMsg, GnssObsMsg, GnssTimeMsg, StampedFloat64Array, GnssPolyEphemMsg, GnssPreciseEphemMsg\n",
      "File \u001b[0;32m/opt/ros/melodic/lib/python2.7/dist-packages/rosbag/__init__.py:33\u001b[0m, in \u001b[0;36m<module>\u001b[0;34m\u001b[0m\n\u001b[1;32m      1\u001b[0m \u001b[39m# Software License Agreement (BSD License)\u001b[39;00m\n\u001b[1;32m      2\u001b[0m \u001b[39m#\u001b[39;00m\n\u001b[1;32m      3\u001b[0m \u001b[39m# Copyright (c) 2009, Willow Garage, Inc.\u001b[39;00m\n\u001b[0;32m   (...)\u001b[0m\n\u001b[1;32m     30\u001b[0m \u001b[39m# ANY WAY OUT OF THE USE OF THIS SOFTWARE, EVEN IF ADVISED OF THE\u001b[39;00m\n\u001b[1;32m     31\u001b[0m \u001b[39m# POSSIBILITY OF SUCH DAMAGE.\u001b[39;00m\n\u001b[0;32m---> 33\u001b[0m \u001b[39mfrom\u001b[39;00m \u001b[39m.\u001b[39;00m\u001b[39mbag\u001b[39;00m \u001b[39mimport\u001b[39;00m Bag, Compression, ROSBagException, ROSBagFormatException, ROSBagUnindexedException\n\u001b[1;32m     35\u001b[0m \u001b[39m# Import rosbag main to be used by the rosbag executable\u001b[39;00m\n\u001b[1;32m     36\u001b[0m \u001b[39mfrom\u001b[39;00m \u001b[39m.\u001b[39;00m\u001b[39mrosbag_main\u001b[39;00m \u001b[39mimport\u001b[39;00m rosbagmain\n",
      "File \u001b[0;32m/opt/ros/melodic/lib/python2.7/dist-packages/rosbag/bag.py:73\u001b[0m, in \u001b[0;36m<module>\u001b[0;34m\u001b[0m\n\u001b[1;32m     71\u001b[0m     found_lz4 \u001b[39m=\u001b[39m \u001b[39mTrue\u001b[39;00m\n\u001b[1;32m     72\u001b[0m \u001b[39mexcept\u001b[39;00m \u001b[39mImportError\u001b[39;00m:\n\u001b[0;32m---> 73\u001b[0m     rospy\u001b[39m.\u001b[39;49mlogwarn(\n\u001b[1;32m     74\u001b[0m         \u001b[39m'\u001b[39;49m\u001b[39mFailed to load Python extension for LZ4 support. \u001b[39;49m\u001b[39m'\u001b[39;49m\n\u001b[1;32m     75\u001b[0m         \u001b[39m'\u001b[39;49m\u001b[39mLZ4 compression will not be available.\u001b[39;49m\u001b[39m'\u001b[39;49m)\n\u001b[1;32m     76\u001b[0m     found_lz4 \u001b[39m=\u001b[39m \u001b[39mFalse\u001b[39;00m\n\u001b[1;32m     78\u001b[0m \u001b[39mclass\u001b[39;00m \u001b[39mROSBagException\u001b[39;00m(\u001b[39mException\u001b[39;00m):\n",
      "File \u001b[0;32m/opt/ros/melodic/lib/python2.7/dist-packages/rospy/core.py:197\u001b[0m, in \u001b[0;36mlogwarn\u001b[0;34m(msg, *args, **kwargs)\u001b[0m\n\u001b[1;32m    196\u001b[0m \u001b[39mdef\u001b[39;00m \u001b[39mlogwarn\u001b[39m(msg, \u001b[39m*\u001b[39margs, \u001b[39m*\u001b[39m\u001b[39m*\u001b[39mkwargs):\n\u001b[0;32m--> 197\u001b[0m     _base_logger(msg, \u001b[39m*\u001b[39;49margs, logger_level\u001b[39m=\u001b[39;49m\u001b[39m'\u001b[39;49m\u001b[39mwarn\u001b[39;49m\u001b[39m'\u001b[39;49m, \u001b[39m*\u001b[39;49m\u001b[39m*\u001b[39;49mkwargs)\n",
      "File \u001b[0;32m/opt/ros/melodic/lib/python2.7/dist-packages/rospy/core.py:187\u001b[0m, in \u001b[0;36m_base_logger\u001b[0;34m(msg, *args, **kwargs)\u001b[0m\n\u001b[1;32m    185\u001b[0m         logfunc(msg, \u001b[39m*\u001b[39margs)\n\u001b[1;32m    186\u001b[0m \u001b[39melse\u001b[39;00m:\n\u001b[0;32m--> 187\u001b[0m     logfunc(msg, \u001b[39m*\u001b[39;49margs)\n",
      "File \u001b[0;32m/persist/conda/env/lib/python3.9/logging/__init__.py:1463\u001b[0m, in \u001b[0;36mLogger.warn\u001b[0;34m(self, msg, *args, **kwargs)\u001b[0m\n\u001b[1;32m   1460\u001b[0m \u001b[39mdef\u001b[39;00m \u001b[39mwarn\u001b[39m(\u001b[39mself\u001b[39m, msg, \u001b[39m*\u001b[39margs, \u001b[39m*\u001b[39m\u001b[39m*\u001b[39mkwargs):\n\u001b[1;32m   1461\u001b[0m     warnings\u001b[39m.\u001b[39mwarn(\u001b[39m\"\u001b[39m\u001b[39mThe \u001b[39m\u001b[39m'\u001b[39m\u001b[39mwarn\u001b[39m\u001b[39m'\u001b[39m\u001b[39m method is deprecated, \u001b[39m\u001b[39m\"\u001b[39m\n\u001b[1;32m   1462\u001b[0m         \u001b[39m\"\u001b[39m\u001b[39muse \u001b[39m\u001b[39m'\u001b[39m\u001b[39mwarning\u001b[39m\u001b[39m'\u001b[39m\u001b[39m instead\u001b[39m\u001b[39m\"\u001b[39m, \u001b[39mDeprecationWarning\u001b[39;00m, \u001b[39m2\u001b[39m)\n\u001b[0;32m-> 1463\u001b[0m     \u001b[39mself\u001b[39;49m\u001b[39m.\u001b[39;49mwarning(msg, \u001b[39m*\u001b[39;49margs, \u001b[39m*\u001b[39;49m\u001b[39m*\u001b[39;49mkwargs)\n",
      "File \u001b[0;32m/persist/conda/env/lib/python3.9/logging/__init__.py:1458\u001b[0m, in \u001b[0;36mLogger.warning\u001b[0;34m(self, msg, *args, **kwargs)\u001b[0m\n\u001b[1;32m   1449\u001b[0m \u001b[39m\"\"\"\u001b[39;00m\n\u001b[1;32m   1450\u001b[0m \u001b[39mLog 'msg % args' with severity 'WARNING'.\u001b[39;00m\n\u001b[1;32m   1451\u001b[0m \n\u001b[0;32m   (...)\u001b[0m\n\u001b[1;32m   1455\u001b[0m \u001b[39mlogger.warning(\"Houston, we have a %s\", \"bit of a problem\", exc_info=1)\u001b[39;00m\n\u001b[1;32m   1456\u001b[0m \u001b[39m\"\"\"\u001b[39;00m\n\u001b[1;32m   1457\u001b[0m \u001b[39mif\u001b[39;00m \u001b[39mself\u001b[39m\u001b[39m.\u001b[39misEnabledFor(WARNING):\n\u001b[0;32m-> 1458\u001b[0m     \u001b[39mself\u001b[39;49m\u001b[39m.\u001b[39;49m_log(WARNING, msg, args, \u001b[39m*\u001b[39;49m\u001b[39m*\u001b[39;49mkwargs)\n",
      "File \u001b[0;32m/persist/conda/env/lib/python3.9/logging/__init__.py:1577\u001b[0m, in \u001b[0;36mLogger._log\u001b[0;34m(self, level, msg, args, exc_info, extra, stack_info, stacklevel)\u001b[0m\n\u001b[1;32m   1572\u001b[0m \u001b[39mif\u001b[39;00m _srcfile:\n\u001b[1;32m   1573\u001b[0m     \u001b[39m#IronPython doesn't track Python frames, so findCaller raises an\u001b[39;00m\n\u001b[1;32m   1574\u001b[0m     \u001b[39m#exception on some versions of IronPython. We trap it here so that\u001b[39;00m\n\u001b[1;32m   1575\u001b[0m     \u001b[39m#IronPython can use logging.\u001b[39;00m\n\u001b[1;32m   1576\u001b[0m     \u001b[39mtry\u001b[39;00m:\n\u001b[0;32m-> 1577\u001b[0m         fn, lno, func, sinfo \u001b[39m=\u001b[39m \u001b[39mself\u001b[39;49m\u001b[39m.\u001b[39;49mfindCaller(stack_info, stacklevel)\n\u001b[1;32m   1578\u001b[0m     \u001b[39mexcept\u001b[39;00m \u001b[39mValueError\u001b[39;00m: \u001b[39m# pragma: no cover\u001b[39;00m\n\u001b[1;32m   1579\u001b[0m         fn, lno, func \u001b[39m=\u001b[39m \u001b[39m\"\u001b[39m\u001b[39m(unknown file)\u001b[39m\u001b[39m\"\u001b[39m, \u001b[39m0\u001b[39m, \u001b[39m\"\u001b[39m\u001b[39m(unknown function)\u001b[39m\u001b[39m\"\u001b[39m\n",
      "\u001b[0;31mTypeError\u001b[0m: findCaller() takes from 1 to 2 positional arguments but 3 were given"
     ]
    }
   ],
   "source": [
    "import rosbag\n",
    "import rospy\n",
    "from ninebot_gio_coupling.msg import GnssEphemMsg, GnssGloEphemMsg, GnssMeasMsg, GnssObsMsg, GnssTimeMsg, StampedFloat64Array, GnssPolyEphemMsg, GnssPreciseEphemMsg\n",
    "from nav_msgs.msg import Odometry\n",
    "import sys\n",
    "sys.path.append('../')\n",
    "from laika.raw_gnss import normal_meas_from_array, process_measurements\n",
    "\n",
    "import numpy as np\n",
    "from pathlib import Path\n",
    "from laika import AstroDog\n",
    "from tqdm.auto import tqdm\n",
    "import time\n",
    "import subprocess\n",
    "import pandas as pd\n",
    "import os\n",
    "dog = AstroDog(dgps=True)"
   ]
  },
  {
   "cell_type": "code",
   "execution_count": 7,
   "metadata": {},
   "outputs": [
    {
     "data": {
      "application/vnd.jupyter.widget-view+json": {
       "model_id": "758cd32c08494bcba1b49dd6724930f4",
       "version_major": 2,
       "version_minor": 0
      },
      "text/plain": [
       "  0%|          | 0/600 [00:00<?, ?it/s]"
      ]
     },
     "metadata": {},
     "output_type": "display_data"
    }
   ],
   "source": [
    "# roscore = subprocess.Popen('roscore')\n",
    "# time.sleep(1)  # wait a bit to be sure the roscore is really launched\n",
    "import sys\n",
    "sys.path.append('../')\n",
    "from laika.raw_gnss import normal_meas_from_array, process_measurements\n",
    "\n",
    "import numpy as np\n",
    "from pathlib import Path\n",
    "from laika import AstroDog\n",
    "from tqdm.auto import tqdm\n",
    "dog = AstroDog(dgps=True)\n",
    "dir_name = '/persist/source_data1/wangyf/dataset/GNSS/comma2k19/Chunk_1/b0c9d2329ad1606b|2018-07-27--06-03-57/3/processed_log/GNSS/raw_gnss_ublox'\n",
    "out_bag_name = os.path.join(dir_name, 'gnss_data.bag')\n",
    "base_dir = Path(dir_name)\n",
    "raw_ublox_t = np.load(base_dir / 't')\n",
    "raw_ublox = np.load(base_dir / 'value')\n",
    "measurements = np.array([normal_meas_from_array(arr) for arr in raw_ublox])\n",
    "grouped_t = np.unique(raw_ublox_t)\n",
    "grouped_meas_processed = []\n",
    "# process measurement groups\n",
    "for t in tqdm(grouped_t):\n",
    "    meas = measurements[raw_ublox_t == t]\n",
    "    # print(\"1\",type(meas[-1].sat_ephemeris), meas[-1].sat_ephemeris, meas[-1].sat_ephemeris.prn)\n",
    "    grouped_meas_processed.append(process_measurements(meas, dog))"
   ]
  }
 ],
 "metadata": {
  "kernelspec": {
   "display_name": "Python 3.9.12",
   "language": "python",
   "name": "python3"
  },
  "language_info": {
   "codemirror_mode": {
    "name": "ipython",
    "version": 3
   },
   "file_extension": ".py",
   "mimetype": "text/x-python",
   "name": "python",
   "nbconvert_exporter": "python",
   "pygments_lexer": "ipython3",
   "version": "3.9.12"
  },
  "orig_nbformat": 4,
  "vscode": {
   "interpreter": {
    "hash": "0d2c699646e020880484ab5163b28ab914635883e77095b9f42c8b7cff3f1553"
   }
  }
 },
 "nbformat": 4,
 "nbformat_minor": 2
}
